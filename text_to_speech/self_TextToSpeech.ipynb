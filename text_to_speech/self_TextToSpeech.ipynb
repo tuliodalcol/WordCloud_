{
 "cells": [
  {
   "cell_type": "code",
   "execution_count": 25,
   "metadata": {},
   "outputs": [],
   "source": [
    "import re\n",
    "import wave\n",
    "import pyaudio\n",
    "import _thread\n",
    "import time\n",
    "\n",
    "# https://www.youtube.com/watch?v=KSSsVhoR7FQ"
   ]
  },
  {
   "cell_type": "code",
   "execution_count": null,
   "metadata": {},
   "outputs": [],
   "source": [
    "class TextToSpeech:\n",
    "    \n",
    "    CHUNK = 1024\n",
    "    \n",
    "    def __init__(self, words_pron_dict:str = 'cmudict-0.7b.txt'):\n",
    "        self._l = {}\n",
    "        self._load_words(words_pron_dict)\n",
    "        \n",
    "    def _load_words(self, words_pron_dict:str):\n",
    "        '''\n",
    "            Extract words to use as the key, then put each sound\n",
    "            into a list to the value.\n",
    "        '''\n",
    "        with open(words_pron_dict, 'r') as file:\n",
    "            for line in file:\n",
    "                if not line.startswith(';;;'):\n",
    "                    key, val = line.split(' ', 2)\n",
    "                    self._l[key] = re.findall(r'[A-Z]+', val)\n",
    "    \n",
    "    def get_pronunciation(self, str_input):\n",
    "        '''\n",
    "            Loads each sound of the input into a a sort of queue,\n",
    "            to play the corresponding audio file while also incrementing\n",
    "            a delay to make the output speech a little more fluid. \n",
    "        '''\n",
    "        list_pron = []\n",
    "        for word in re.findall(r\"[\\w']+\", str_input.upper()):\n",
    "            if word in self._l:\n",
    "                list_pron += self._l[word]\n",
    "        print(list_pron)\n",
    "        delay=0\n",
    "        for pron in list_pron:\n",
    "            _thread.start_new_thread( TextToSpeech._play_audio, (pron,delay,))\n",
    "            delay += 0.145\n",
    "    \n",
    "    def _play_audio(sound, delay):\n",
    "        '''\n",
    "        Handles the delay and plays a sound.\n",
    "        This method is based off the sample function on the PI audio\n",
    "        project webpage\n",
    "        '''\n",
    "        try:\n",
    "            time.sleep(delay)\n",
    "            wf = wave.open('sounds/'+sound+'.wav', 'rb')\n",
    "            p = pyaudio.PyAudio()\n",
    "            stream = p.open(format=p.get_format_from_with(wf.getsampwidth()),\n",
    "                            channels=wf.getnchannels(),\n",
    "                            rate=wf.getframerate(),\n",
    "                            output=True)\n",
    "            data = wf.readframes(TextToSpeech.CHUNK)\n",
    "            \n",
    "            while data:\n",
    "                stream.write(data)\n",
    "                data = wf.readframes(TextToSpeech.CHUNK)\n",
    "            \n",
    "            stream.stop_stream()\n",
    "            stream.close()\n",
    "            \n",
    "            p.terminate()\n",
    "            return\n",
    "        except:\n",
    "            pass:\n",
    "            \n",
    "if __name__ == '__main__':\n",
    "    tts = TextToSpeech()\n",
    "    while True:\n",
    "        tts.get_pronunciation(input('Enter the fucking sentense: '))\n",
    "                    "
   ]
  },
  {
   "cell_type": "code",
   "execution_count": null,
   "metadata": {},
   "outputs": [],
   "source": []
  },
  {
   "cell_type": "code",
   "execution_count": null,
   "metadata": {},
   "outputs": [],
   "source": []
  },
  {
   "cell_type": "code",
   "execution_count": null,
   "metadata": {},
   "outputs": [],
   "source": []
  },
  {
   "cell_type": "code",
   "execution_count": null,
   "metadata": {},
   "outputs": [],
   "source": []
  },
  {
   "cell_type": "code",
   "execution_count": null,
   "metadata": {},
   "outputs": [],
   "source": []
  }
 ],
 "metadata": {
  "kernelspec": {
   "display_name": "Python 3",
   "language": "python",
   "name": "python3"
  },
  "language_info": {
   "codemirror_mode": {
    "name": "ipython",
    "version": 3
   },
   "file_extension": ".py",
   "mimetype": "text/x-python",
   "name": "python",
   "nbconvert_exporter": "python",
   "pygments_lexer": "ipython3",
   "version": "3.8.3"
  }
 },
 "nbformat": 4,
 "nbformat_minor": 4
}
